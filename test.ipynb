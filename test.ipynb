{
 "cells": [
  {
   "cell_type": "code",
   "execution_count": 31,
   "metadata": {},
   "outputs": [],
   "source": [
    "import textacy\n",
    "import textacy\n",
    "from textacy import extract\n",
    "import spacy"
   ]
  },
  {
   "cell_type": "code",
   "execution_count": 34,
   "metadata": {},
   "outputs": [
    {
     "data": {
      "text/plain": [
       "<spacy.lang.en.English at 0x2c2cdb5fb50>"
      ]
     },
     "execution_count": 34,
     "metadata": {},
     "output_type": "execute_result"
    }
   ],
   "source": [
    "spacy.load('en_core_web_md')"
   ]
  },
  {
   "cell_type": "code",
   "execution_count": 37,
   "metadata": {},
   "outputs": [],
   "source": [
    "class KeytermExtractor:\n",
    "    \"\"\"\n",
    "    A class for extracting keyterms from a given text using various algorithms.\n",
    "    \"\"\"\n",
    "\n",
    "    def __init__(self, raw_text: str, top_n_values: int = 20):\n",
    "        \"\"\"\n",
    "        Initialize the KeytermExtractor object.\n",
    "\n",
    "        Args:\n",
    "            raw_text (str): The raw input text.\n",
    "            top_n_values (int): The number of top keyterms to extract.\n",
    "        \"\"\"\n",
    "        self.raw_text = raw_text\n",
    "        self.text_doc = textacy.make_spacy_doc(self.raw_text, lang=\"en_core_web_md\")\n",
    "        self.top_n_values = top_n_values\n",
    "\n",
    "    def get_keyterms_based_on_textrank(self):\n",
    "        \"\"\"\n",
    "        Extract keyterms using the TextRank algorithm.\n",
    "\n",
    "        Returns:\n",
    "            List[str]: A list of top keyterms based on TextRank.\n",
    "        \"\"\"\n",
    "        return list(\n",
    "            extract.keyterms.textrank(\n",
    "                self.text_doc, normalize=\"lemma\", topn=self.top_n_values\n",
    "            )\n",
    "        )\n",
    "\n",
    "    def get_keyterms_based_on_sgrank(self):\n",
    "        \"\"\"\n",
    "        Extract keyterms using the SGRank algorithm.\n",
    "\n",
    "        Returns:\n",
    "            List[str]: A list of top keyterms based on SGRank.\n",
    "        \"\"\"\n",
    "        return list(\n",
    "            extract.keyterms.sgrank(\n",
    "                self.text_doc, normalize=\"lemma\", topn=self.top_n_values\n",
    "            )\n",
    "        )\n",
    "\n",
    "    def get_keyterms_based_on_scake(self):\n",
    "        \"\"\"\n",
    "        Extract keyterms using the sCAKE algorithm.\n",
    "\n",
    "        Returns:\n",
    "            List[str]: A list of top keyterms based on sCAKE.\n",
    "        \"\"\"\n",
    "        return list(\n",
    "            extract.keyterms.scake(\n",
    "                self.text_doc, normalize=\"lemma\", topn=self.top_n_values\n",
    "            )\n",
    "        )\n",
    "\n",
    "    def get_keyterms_based_on_yake(self):\n",
    "        \"\"\"\n",
    "        Extract keyterms using the YAKE algorithm.\n",
    "\n",
    "        Returns:\n",
    "            List[str]: A list of top keyterms based on YAKE.\n",
    "        \"\"\"\n",
    "        return list(\n",
    "            extract.keyterms.yake(\n",
    "                self.text_doc, normalize=\"lemma\", topn=self.top_n_values\n",
    "            )\n",
    "        )\n",
    "\n",
    "    def bi_gramchunker(self):\n",
    "        \"\"\"\n",
    "        Chunk the text into bigrams.\n",
    "\n",
    "        Returns:\n",
    "            List[str]: A list of bigrams.\n",
    "        \"\"\"\n",
    "        return list(\n",
    "            textacy.extract.basics.ngrams(\n",
    "                self.text_doc,\n",
    "                n=2,\n",
    "                filter_stops=True,\n",
    "                filter_nums=True,\n",
    "                filter_punct=True,\n",
    "            )\n",
    "        )\n",
    "\n",
    "    def tri_gramchunker(self):\n",
    "        \"\"\"\n",
    "        Chunk the text into trigrams.\n",
    "\n",
    "        Returns:\n",
    "            List[str]: A list of trigrams.\n",
    "        \"\"\"\n",
    "        return list(\n",
    "            textacy.extract.basics.ngrams(\n",
    "                self.text_doc,\n",
    "                n=3,\n",
    "                filter_stops=True,\n",
    "                filter_nums=True,\n",
    "                filter_punct=True,\n",
    "            )\n",
    "        )"
   ]
  },
  {
   "cell_type": "code",
   "execution_count": 43,
   "metadata": {},
   "outputs": [],
   "source": [
    "raw_text = '''JOB DESCRIPTION\n",
    "\n",
    "The Firmwide Operational Risk Capital and Stress Testing (FORCAST) is a Risk Group within Compliance, Conduct and Operational Risk Management (CCOR), reporting up to the Head of Compliance and Operational Risk. FORCAST is responsible for Firmwide Operational Risk Measurement and Operational Risk Management for International Legal entities and covers the mandate of Operational Risk Capital Calculation, Operational Risk Stress testing (CCAR/DFAST), and Scenario Analysis.\n",
    "\n",
    "The Program Management team, within FORCAST, is seeking an Analyst to help drive the business initiatives with a specific focus on process improvement, control management, as well as strategic development across the FORCAST organization. The successful candidate will be a strategic thinker, team player, self-starter with strong focus on results.\n",
    "\n",
    "Key Responsibilities:\n",
    "\n",
    "Support the strategic implementation of key business functions across FORCAST such as Legal Obligations, Flash (internal tool for Senior Management), CORE, User Tools, Data Management & Record Retention\n",
    "Support the governance aspects of FORCAST by participating in the annual review and update of Procedures and Process Maps\n",
    "Develop relationships and partner with members of the FORCAST team, Lines of Business (LOB)/Function aligned Operational Risk Officer teams and Control Management to help drive initiatives\n",
    "Manage communication of business-related issues to key stakeholders and Senior Management\n",
    "Provide support to Senior Business Manager in the coordination of activities across the team, including: \n",
    "Coordination and support for presentations to internal and external audiences, including data analysis \n",
    "coordination and tracking of key deliverables and projects across different teams\n",
    "supporting cross-LOB operational risk initiatives, and projects as appropriate \n",
    "\n",
    "Qualifications & Skills:\n",
    "\n",
    "Degree in Business Administration, Finance, Accounting or related discipline \n",
    "Minimum of 2 years of experience in Portfolio or Project Management preferably in Risk, Compliance, Audit or Controls\n",
    "Strong analytical, problem solving and decision-making skills\n",
    "A high-level of attention to detail and quality assurance\n",
    "Understanding of process re-engineering experience – efficiency and control mindset\n",
    "Demonstrated ability to build relationships with individuals at all levels, including senior management\n",
    "Good communication skills (written and verbal) \n",
    "Strategic and independent thinker with ability to frame end to end solutions and execute\n",
    "Ability to multi-task, work well under pressure and commitment to deliver under tight deadlines\n",
    "Intermediate in Excel and MS Word, MS Power Point is a must\n",
    "Experience with other software is a plus (e.g., Visio, Adobe Acrobat, Tableau)\n",
    "Fluency in Spanish is a plus\n",
    "\n",
    "ABOUT US\n",
    "\n",
    "J.P. Morgan is a global leader in financial services, providing strategic advice and products to the world’s most prominent corporations, governments, wealthy individuals and institutional investors. Our first-class business in a first-class way approach to serving clients drives everything we do. We strive to build trusted, long-term partnerships to help our clients achieve their business objectives.\n",
    "\n",
    "We recognize that our people are our strength and the diverse talents they bring to our global workforce are directly linked to our success. We are an equal opportunity employer and place a high value on diversity and inclusion at our company. We do not discriminate on the basis of any protected attribute, including race, religion, color, national origin, gender, sexual orientation, gender identity, gender expression, age, marital or veteran status, pregnancy or disability, or any other basis protected under applicable law. We also make reasonable accommodations for applicants’ and employees’ religious practices and beliefs, as well as mental health or physical disability needs. Visit our FAQs for more information about requesting an accommodation.\n",
    "\n",
    "ABOUT THE TEAM\n",
    "\n",
    "Our professionals in our Corporate Functions cover a diverse range of areas from finance and risk to human resources and marketing. Our corporate teams are an essential part of our company, ensuring that we’re setting our businesses, clients, customers and employees up for success.JOB DESCRIPTION\n",
    "\n",
    "We have an exciting and rewarding opportunity for you to take your software engineering career to the next level.\n",
    "\n",
    "As a Software Engineer III at JPMorgan Chase within the Corporate Sector - Forecasting Team, you serve as a seasoned member of an agile team to design and deliver trusted market-leading technology products in a secure, stable, and scalable way. You are responsible for carrying out critical technology solutions across multiple technical areas within various business functions in support of the firm’s business objectives.\n",
    "\n",
    "Job Responsibilities\n",
    "\n",
    "Executes software solutions, design, development, and technical troubleshooting with ability to think beyond routine or conventional approaches to build solutions or break down technical problems\n",
    "Creates secure and high-quality production code and maintains algorithms that run synchronously with appropriate systems\n",
    "Produces architecture and design artifacts for complex applications while being accountable for ensuring design constraints are met by software code development\n",
    "Gathers, analyzes, synthesizes, and develops visualizations and reporting from large, diverse data sets in service of continuous improvement of software applications and systems\n",
    "Proactively identifies hidden problems and patterns in data and uses these insights to drive improvements to coding hygiene and system architecture\n",
    "Contributes to software engineering communities of practice and events that explore new and emerging technologies\n",
    "Adds to team culture of diversity, equity, inclusion, and respect\n",
    "\n",
    "Required Qualifications, Capabilities, And Skills\n",
    "\n",
    "Formal training or certification on software engineering concepts and 3+ years applied experience\n",
    "Hands-on practical experience in system design, application development, testing, and operational stability\n",
    "Proficient in Object Oriented Programming using Python\n",
    "Experience in developing, debugging, and maintaining code in a large corporate environment with one or more modern programming languages and database querying languages\n",
    "Overall knowledge of the Software Development Life Cycle\n",
    "Solid understanding of agile methodologies such as CI/CD, Application Resiliency, and Security\n",
    "Demonstrated knowledge of software applications and technical processes within a technical discipline (e.g., cloud, artificial intelligence, machine learning, mobile, etc.)\n",
    "\n",
    "Preferred Qualifications, Capabilities, And Skills\n",
    "\n",
    "Exposure to cloud technologies, AWS\n",
    "Experience with OLAP tools\n",
    "Exposure with Finance domain\n",
    "Familiarity with modern front-end technologies\n",
    "\n",
    "ABOUT US\n",
    "\n",
    "JPMorgan Chase & Co., one of the oldest financial institutions, offers innovative financial solutions to millions of consumers, small businesses and many of the world’s most prominent corporate, institutional and government clients under the J.P. Morgan and Chase brands. Our history spans over 200 years and today we are a leader in investment banking, consumer and small business banking, commercial banking, financial transaction processing and asset management.\n",
    "\n",
    "We offer a competitive total rewards package including base salary determined based on the role, experience, skill set, and location. For those in eligible roles, we offer discretionary incentive compensation which may be awarded in recognition of firm performance and individual achievements and contributions. We also offer a range of benefits and programs to meet employee needs, based on eligibility. These benefits include comprehensive health care coverage, on-site health and wellness centers, a retirement savings plan, backup childcare, tuition reimbursement, mental health support, financial coaching and more. Additional details about total compensation and benefits will be provided during the hiring process.\n",
    "\n",
    "We recognize that our people are our strength and the diverse talents they bring to our global workforce are directly linked to our success. We are an equal opportunity employer and place a high value on diversity and inclusion at our company. We do not discriminate on the basis of any protected attribute, including race, religion, color, national origin, gender, sexual orientation, gender identity, gender expression, age, marital or veteran status, pregnancy or disability, or any other basis protected under applicable law. We also make reasonable accommodations for applicants’ and employees’ religious practices and beliefs, as well as mental health or physical disability needs. Visit our FAQs for more information about requesting an accommodation.\n",
    "\n",
    "JPMorgan Chase is an Equal Opportunity Employer, including Disability/Veterans\n",
    "\n",
    "ABOUT THE TEAM\n",
    "\n",
    "The Cybersecurity & Technology Controls group at JPMorgan Chase aligns the firm’s cybersecurity, access management, controls and resiliency teams. The group proactively and strategically partners with all lines of business and functions to enable them to design, adopt and integrate appropriate controls; deliver processes and solutions efficiently and consistently; and drive automation of controls. The group’s number one priority is to enable the business by keeping the firm safe, stable and resilient.\n",
    "\n",
    "High Risk Roles (HRR) are sensitive roles within the technology organization that require high assurance of the integrity of staff by virtue of 1) sensitive cybersecurity and technology functions they perform within systems or 2) information they receive regarding sensitive cybersecurity or technology matters. Users in these roles are subject to enhanced pre-hire screening which includes both criminal and credit background checks (as allowed by law). The enhanced screening will need to be successfully completed prior to commencing employment or assignment.'''"
   ]
  },
  {
   "cell_type": "code",
   "execution_count": 44,
   "metadata": {},
   "outputs": [],
   "source": [
    "keyword_extractor = KeytermExtractor(raw_text=raw_text)\n"
   ]
  },
  {
   "cell_type": "code",
   "execution_count": 45,
   "metadata": {},
   "outputs": [],
   "source": [
    "key_terms_textrank = keyword_extractor.get_keyterms_based_on_textrank()\n",
    "key_terms_sgrank = keyword_extractor.get_keyterms_based_on_sgrank()\n",
    "key_terms_scake = keyword_extractor.get_keyterms_based_on_scake()\n",
    "key_terms_yake = keyword_extractor.get_keyterms_based_on_yake()"
   ]
  },
  {
   "cell_type": "code",
   "execution_count": 46,
   "metadata": {},
   "outputs": [
    {
     "data": {
      "text/plain": [
       "[('Operational Risk Officer team', 290409.11776819977),\n",
       " ('Operational Risk Management', 204681.22740292462),\n",
       " ('Program Management team', 169836.51129649754),\n",
       " ('Operational Risk Stress testing', 166686.72096595983),\n",
       " ('Firmwide Operational Risk Capital', 164835.6907156894),\n",
       " ('Firmwide Operational Risk Measurement', 164042.01148063873),\n",
       " ('Operational Risk Capital Calculation', 163510.07873820706),\n",
       " ('corporate team', 129993.44966646808),\n",
       " ('agile team', 128229.90816738857),\n",
       " ('team player', 127996.2851002206),\n",
       " ('forcast team', 127851.27842206463),\n",
       " ('team culture', 127839.52542656093),\n",
       " ('different team', 127804.23680476606),\n",
       " ('resiliency team', 127677.295075134),\n",
       " ('Risk Group', 104337.48846851669),\n",
       " ('key business function', 91109.07498330406),\n",
       " ('business initiative', 88414.69091663744),\n",
       " ('business objective', 84671.77074627741),\n",
       " ('class business', 84654.1512416879),\n",
       " ('small business banking', 84541.05913059915)]"
      ]
     },
     "execution_count": 46,
     "metadata": {},
     "output_type": "execute_result"
    }
   ],
   "source": [
    "key_terms_scake"
   ]
  },
  {
   "cell_type": "code",
   "execution_count": 47,
   "metadata": {},
   "outputs": [
    {
     "data": {
      "text/plain": [
       "[('Operational Risk', 0.30436525468515696),\n",
       " ('JPMorgan Chase', 0.045071231925167064),\n",
       " ('software engineering', 0.04358141307741387),\n",
       " ('mental health', 0.030950510228464134),\n",
       " ('Management', 0.02983493316370504),\n",
       " ('team', 0.028637143005603355),\n",
       " ('FORCAST', 0.025678013567493555),\n",
       " ('business', 0.025415053853424668),\n",
       " ('strategic', 0.014461077973346151),\n",
       " ('Compliance', 0.01228599992899064),\n",
       " ('JOB', 0.011781149149495107),\n",
       " ('DESCRIPTION', 0.011318789100380441),\n",
       " ('experience', 0.011050860677857814),\n",
       " ('process', 0.010007889984483966),\n",
       " ('development', 0.009496828723565035),\n",
       " ('control', 0.009338606157924569),\n",
       " ('initiative', 0.008543141432698019),\n",
       " ('function', 0.007705913273884507),\n",
       " ('solution', 0.0074910443391407264),\n",
       " ('improvement', 0.007412719184688379)]"
      ]
     },
     "execution_count": 47,
     "metadata": {},
     "output_type": "execute_result"
    }
   ],
   "source": [
    "key_terms_sgrank"
   ]
  },
  {
   "cell_type": "code",
   "execution_count": 48,
   "metadata": {},
   "outputs": [
    {
     "data": {
      "text/plain": [
       "[('Operational Risk Management', 0.019506242987303142),\n",
       " ('Firmwide Operational Risk', 0.020523585691660347),\n",
       " ('Operational Risk Capital', 0.020523585691660347),\n",
       " ('Operational Risk Stress', 0.032993407028512924),\n",
       " ('Operational Risk Officer', 0.05638879174415452),\n",
       " ('Risk Capital Calculation', 0.06568879269057357),\n",
       " ('Risk Group', 0.10863032311108435),\n",
       " ('FORCAST', 0.12287270655511391),\n",
       " ('Risk Measurement', 0.14126863534569725),\n",
       " ('Risk Stress testing', 0.1642997302625378),\n",
       " ('Stress Testing', 0.1647279953827948),\n",
       " ('team', 0.1694551002565448),\n",
       " ('Risk Officer team', 0.18235050805621605),\n",
       " ('experience', 0.18558937632889216),\n",
       " ('business', 0.19004630448806267),\n",
       " ('Chase', 0.1946433830421114),\n",
       " ('Compliance', 0.196759348092092),\n",
       " ('Senior Management', 0.20427709774794464),\n",
       " ('Program Management', 0.22932498620132044),\n",
       " ('Program Management team', 0.23613438256430294)]"
      ]
     },
     "execution_count": 48,
     "metadata": {},
     "output_type": "execute_result"
    }
   ],
   "source": [
    "key_terms_yake"
   ]
  },
  {
   "cell_type": "code",
   "execution_count": 49,
   "metadata": {},
   "outputs": [
    {
     "data": {
      "text/plain": [
       "[('Operational Risk Officer team', 0.012067632465991403),\n",
       " ('Program Management team', 0.010683740259758358),\n",
       " ('Operational Risk Management', 0.01005230155642172),\n",
       " ('key business function', 0.009871858437464097),\n",
       " ('critical technology solution', 0.009772074111794218),\n",
       " ('software code development', 0.008592479251992767),\n",
       " ('small business banking', 0.00850449511340308),\n",
       " ('Operational Risk Stress testing', 0.008433163403283001),\n",
       " ('Firmwide Operational Risk Capital', 0.00803555477135295),\n",
       " ('Operational Risk Capital Calculation', 0.007826220062571873),\n",
       " ('business initiative', 0.00780323560177853),\n",
       " ('innovative financial solution', 0.007721933699301857),\n",
       " ('corporate team', 0.007708754578491118),\n",
       " ('Firmwide Operational Risk Measurement', 0.007653541691376376),\n",
       " ('mental health support', 0.0075599510705396744),\n",
       " ('technology function', 0.007480934296732537),\n",
       " ('software solution', 0.007402901299341889),\n",
       " ('agile team', 0.007059685500337581),\n",
       " ('class business', 0.00698200817296855),\n",
       " ('end technology', 0.006979712528620907)]"
      ]
     },
     "execution_count": 49,
     "metadata": {},
     "output_type": "execute_result"
    }
   ],
   "source": [
    "key_terms_textrank"
   ]
  }
 ],
 "metadata": {
  "kernelspec": {
   "display_name": "Python 3",
   "language": "python",
   "name": "python3"
  },
  "language_info": {
   "codemirror_mode": {
    "name": "ipython",
    "version": 3
   },
   "file_extension": ".py",
   "mimetype": "text/x-python",
   "name": "python",
   "nbconvert_exporter": "python",
   "pygments_lexer": "ipython3",
   "version": "3.10.0"
  }
 },
 "nbformat": 4,
 "nbformat_minor": 2
}
